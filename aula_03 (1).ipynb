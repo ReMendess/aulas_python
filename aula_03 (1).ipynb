{
 "cells": [
  {
   "cell_type": "code",
   "execution_count": 11,
   "id": "d1acdeb3",
   "metadata": {},
   "outputs": [
    {
     "name": "stdout",
     "output_type": "stream",
     "text": [
      "5\n",
      "6\n",
      "7\n"
     ]
    }
   ],
   "source": [
    "um_numer = 5;\n",
    "while um_numer < 10:\n",
    "    print(um_numer)\n",
    "    if um_numer == 7:\n",
    "        break\n",
    "    um_numer +=1\n"
   ]
  },
  {
   "cell_type": "code",
   "execution_count": 70,
   "id": "241c135d",
   "metadata": {},
   "outputs": [
    {
     "name": "stdout",
     "output_type": "stream",
     "text": [
      "1\n",
      "2\n",
      "3\n",
      "4\n",
      "5\n"
     ]
    }
   ],
   "source": [
    "i = 1\n",
    "while i < 6:\n",
    "  print(i)\n",
    "  i += 1"
   ]
  },
  {
   "cell_type": "code",
   "execution_count": 71,
   "id": "0c62c3bd",
   "metadata": {
    "scrolled": false
   },
   "outputs": [
    {
     "name": "stdout",
     "output_type": "stream",
     "text": [
      "Informe sua idade: 20\n"
     ]
    }
   ],
   "source": [
    "idade = input ('Informe sua idade: ')\n"
   ]
  },
  {
   "cell_type": "code",
   "execution_count": 72,
   "id": "8c3c5ce7",
   "metadata": {},
   "outputs": [
    {
     "name": "stdout",
     "output_type": "stream",
     "text": [
      "sua idade é: 20 anos\n"
     ]
    }
   ],
   "source": [
    "print(\"sua idade é: \"+ idade + \" anos\")"
   ]
  },
  {
   "cell_type": "code",
   "execution_count": 73,
   "id": "34a150b7",
   "metadata": {},
   "outputs": [
    {
     "name": "stdout",
     "output_type": "stream",
     "text": [
      "sua idade é: 20 anos\n"
     ]
    }
   ],
   "source": [
    "print(f\"sua idade é: \"+ idade + \" anos\")"
   ]
  },
  {
   "cell_type": "code",
   "execution_count": 74,
   "id": "38a54aca",
   "metadata": {},
   "outputs": [
    {
     "name": "stdout",
     "output_type": "stream",
     "text": [
      "sua idade é: 20\n"
     ]
    }
   ],
   "source": [
    "print(f\"sua idade é: {idade}\")"
   ]
  },
  {
   "cell_type": "code",
   "execution_count": 75,
   "id": "2253aa99",
   "metadata": {},
   "outputs": [],
   "source": [
    "nome = \"Renan\"\n",
    "idade = 24\n",
    "altura = 1.75\n",
    "usuario_python = True"
   ]
  },
  {
   "cell_type": "code",
   "execution_count": 76,
   "id": "aeefbc42",
   "metadata": {},
   "outputs": [
    {
     "data": {
      "text/plain": [
       "(str, int, float, bool)"
      ]
     },
     "execution_count": 76,
     "metadata": {},
     "output_type": "execute_result"
    }
   ],
   "source": [
    "type(nome), type(idade), type(altura), type(usuario_python)"
   ]
  },
  {
   "cell_type": "code",
   "execution_count": 77,
   "id": "6e5f0160",
   "metadata": {},
   "outputs": [
    {
     "data": {
      "text/plain": [
       "1.75"
      ]
     },
     "execution_count": 77,
     "metadata": {},
     "output_type": "execute_result"
    }
   ],
   "source": [
    "altura"
   ]
  },
  {
   "cell_type": "code",
   "execution_count": 78,
   "id": "6e918271",
   "metadata": {},
   "outputs": [
    {
     "data": {
      "text/plain": [
       "'1.750'"
      ]
     },
     "execution_count": 78,
     "metadata": {},
     "output_type": "execute_result"
    }
   ],
   "source": [
    "f'{altura:.3f}'"
   ]
  },
  {
   "cell_type": "code",
   "execution_count": 79,
   "id": "f3ae348f",
   "metadata": {},
   "outputs": [
    {
     "data": {
      "text/plain": [
       "str"
      ]
     },
     "execution_count": 79,
     "metadata": {},
     "output_type": "execute_result"
    }
   ],
   "source": [
    "idade_cliente = \"20\"\n",
    "type(idade_cliente)"
   ]
  },
  {
   "cell_type": "code",
   "execution_count": 80,
   "id": "fa939fec",
   "metadata": {},
   "outputs": [
    {
     "data": {
      "text/plain": [
       "20"
      ]
     },
     "execution_count": 80,
     "metadata": {},
     "output_type": "execute_result"
    }
   ],
   "source": [
    "int(idade_cliente)"
   ]
  },
  {
   "cell_type": "code",
   "execution_count": 81,
   "id": "53a87f9d",
   "metadata": {},
   "outputs": [
    {
     "data": {
      "text/plain": [
       "20.0"
      ]
     },
     "execution_count": 81,
     "metadata": {},
     "output_type": "execute_result"
    }
   ],
   "source": [
    "float(idade_cliente)"
   ]
  },
  {
   "cell_type": "code",
   "execution_count": 82,
   "id": "ca9e6f76",
   "metadata": {},
   "outputs": [
    {
     "data": {
      "text/plain": [
       "'330641542'"
      ]
     },
     "execution_count": 82,
     "metadata": {},
     "output_type": "execute_result"
    }
   ],
   "source": [
    "str(330641542)"
   ]
  },
  {
   "cell_type": "code",
   "execution_count": 83,
   "id": "70795b3c",
   "metadata": {},
   "outputs": [],
   "source": [
    "cpf_teste = str('0009245555')"
   ]
  },
  {
   "cell_type": "code",
   "execution_count": 84,
   "id": "93ba4984",
   "metadata": {},
   "outputs": [
    {
     "data": {
      "text/plain": [
       "'9245555'"
      ]
     },
     "execution_count": 84,
     "metadata": {},
     "output_type": "execute_result"
    }
   ],
   "source": [
    "str(int(cpf_teste)) ## converteu em int, tirou os três 0 e depois converteu em string novamente."
   ]
  },
  {
   "cell_type": "code",
   "execution_count": 85,
   "id": "43d32867",
   "metadata": {},
   "outputs": [
    {
     "data": {
      "text/plain": [
       "'0009245555'"
      ]
     },
     "execution_count": 85,
     "metadata": {},
     "output_type": "execute_result"
    }
   ],
   "source": [
    "('0' * 3) + str(int(cpf_teste))"
   ]
  },
  {
   "cell_type": "code",
   "execution_count": 86,
   "id": "560a2fff",
   "metadata": {},
   "outputs": [
    {
     "data": {
      "text/plain": [
       "False"
      ]
     },
     "execution_count": 86,
     "metadata": {},
     "output_type": "execute_result"
    }
   ],
   "source": [
    "bool(0)"
   ]
  },
  {
   "cell_type": "code",
   "execution_count": 87,
   "id": "1dbf4a4c",
   "metadata": {},
   "outputs": [
    {
     "data": {
      "text/plain": [
       "True"
      ]
     },
     "execution_count": 87,
     "metadata": {},
     "output_type": "execute_result"
    }
   ],
   "source": [
    "bool(1)"
   ]
  },
  {
   "cell_type": "code",
   "execution_count": 88,
   "id": "97f4ed30",
   "metadata": {},
   "outputs": [
    {
     "data": {
      "text/plain": [
       "True"
      ]
     },
     "execution_count": 88,
     "metadata": {},
     "output_type": "execute_result"
    }
   ],
   "source": [
    "bool(2000)"
   ]
  },
  {
   "cell_type": "code",
   "execution_count": 89,
   "id": "5e107752",
   "metadata": {},
   "outputs": [
    {
     "data": {
      "text/plain": [
       "False"
      ]
     },
     "execution_count": 89,
     "metadata": {},
     "output_type": "execute_result"
    }
   ],
   "source": [
    "bool('')"
   ]
  },
  {
   "cell_type": "code",
   "execution_count": 90,
   "id": "e5a13d0e",
   "metadata": {},
   "outputs": [
    {
     "data": {
      "text/plain": [
       "True"
      ]
     },
     "execution_count": 90,
     "metadata": {},
     "output_type": "execute_result"
    }
   ],
   "source": [
    "bool(' ') ## espaço já é considerado caractere."
   ]
  },
  {
   "cell_type": "code",
   "execution_count": 91,
   "id": "e942b8aa",
   "metadata": {},
   "outputs": [
    {
     "name": "stdout",
     "output_type": "stream",
     "text": [
      "2\n"
     ]
    }
   ],
   "source": [
    "x = 1\n",
    "x = x + 1\n",
    "print(x)"
   ]
  },
  {
   "cell_type": "code",
   "execution_count": 92,
   "id": "4e9471d5",
   "metadata": {},
   "outputs": [
    {
     "name": "stdout",
     "output_type": "stream",
     "text": [
      "2\n"
     ]
    }
   ],
   "source": [
    "y =1\n",
    "y += 1\n",
    "print(y)"
   ]
  },
  {
   "cell_type": "code",
   "execution_count": 93,
   "id": "f8217e5e",
   "metadata": {},
   "outputs": [],
   "source": [
    "s = '1'"
   ]
  },
  {
   "cell_type": "code",
   "execution_count": 94,
   "id": "65568c0f",
   "metadata": {},
   "outputs": [],
   "source": [
    "s = s + '0'"
   ]
  },
  {
   "cell_type": "code",
   "execution_count": 95,
   "id": "53d1f9c2",
   "metadata": {},
   "outputs": [],
   "source": [
    "s += '3'"
   ]
  },
  {
   "cell_type": "code",
   "execution_count": 96,
   "id": "69a47104",
   "metadata": {},
   "outputs": [
    {
     "name": "stdout",
     "output_type": "stream",
     "text": [
      "103\n"
     ]
    }
   ],
   "source": [
    "print(s)"
   ]
  },
  {
   "cell_type": "code",
   "execution_count": 97,
   "id": "ba05e0a0",
   "metadata": {
    "scrolled": true
   },
   "outputs": [
    {
     "data": {
      "text/plain": [
       "False"
      ]
     },
     "execution_count": 97,
     "metadata": {},
     "output_type": "execute_result"
    }
   ],
   "source": [
    "x == s  ##comparando"
   ]
  },
  {
   "cell_type": "code",
   "execution_count": 98,
   "id": "7be1e51f",
   "metadata": {
    "scrolled": true
   },
   "outputs": [
    {
     "data": {
      "text/plain": [
       "False"
      ]
     },
     "execution_count": 98,
     "metadata": {},
     "output_type": "execute_result"
    }
   ],
   "source": [
    "str(x) == s "
   ]
  },
  {
   "cell_type": "code",
   "execution_count": 99,
   "id": "77464206",
   "metadata": {},
   "outputs": [
    {
     "data": {
      "text/plain": [
       "True"
      ]
     },
     "execution_count": 99,
     "metadata": {},
     "output_type": "execute_result"
    }
   ],
   "source": [
    "x != s"
   ]
  },
  {
   "cell_type": "code",
   "execution_count": 100,
   "id": "27a4bc53",
   "metadata": {},
   "outputs": [
    {
     "data": {
      "text/plain": [
       "int"
      ]
     },
     "execution_count": 100,
     "metadata": {},
     "output_type": "execute_result"
    }
   ],
   "source": [
    "type (x)"
   ]
  },
  {
   "cell_type": "code",
   "execution_count": 101,
   "id": "eba94a37",
   "metadata": {},
   "outputs": [
    {
     "data": {
      "text/plain": [
       "True"
      ]
     },
     "execution_count": 101,
     "metadata": {},
     "output_type": "execute_result"
    }
   ],
   "source": [
    "True and True"
   ]
  },
  {
   "cell_type": "code",
   "execution_count": 102,
   "id": "bc8b6eef",
   "metadata": {},
   "outputs": [
    {
     "data": {
      "text/plain": [
       "True"
      ]
     },
     "execution_count": 102,
     "metadata": {},
     "output_type": "execute_result"
    }
   ],
   "source": [
    "True ^ False"
   ]
  },
  {
   "cell_type": "code",
   "execution_count": 103,
   "id": "a95295c2",
   "metadata": {},
   "outputs": [],
   "source": [
    "f1 = False\n",
    "f2 = True\n"
   ]
  },
  {
   "cell_type": "code",
   "execution_count": 104,
   "id": "b51f0e2d",
   "metadata": {},
   "outputs": [
    {
     "data": {
      "text/plain": [
       "True"
      ]
     },
     "execution_count": 104,
     "metadata": {},
     "output_type": "execute_result"
    }
   ],
   "source": [
    "f1 ^ f2"
   ]
  },
  {
   "cell_type": "code",
   "execution_count": 105,
   "id": "bc81a235",
   "metadata": {},
   "outputs": [
    {
     "data": {
      "text/plain": [
       "False"
      ]
     },
     "execution_count": 105,
     "metadata": {},
     "output_type": "execute_result"
    }
   ],
   "source": [
    "f1 ^ f1"
   ]
  },
  {
   "cell_type": "code",
   "execution_count": 106,
   "id": "5b6104de",
   "metadata": {},
   "outputs": [
    {
     "data": {
      "text/plain": [
       "False"
      ]
     },
     "execution_count": 106,
     "metadata": {},
     "output_type": "execute_result"
    }
   ],
   "source": [
    "f2 ^ f2"
   ]
  },
  {
   "cell_type": "code",
   "execution_count": 107,
   "id": "837088d7",
   "metadata": {
    "scrolled": true
   },
   "outputs": [
    {
     "data": {
      "text/plain": [
       "24"
      ]
     },
     "execution_count": 107,
     "metadata": {},
     "output_type": "execute_result"
    }
   ],
   "source": [
    "idade"
   ]
  },
  {
   "cell_type": "code",
   "execution_count": 108,
   "id": "17184467",
   "metadata": {},
   "outputs": [
    {
     "data": {
      "text/plain": [
       "True"
      ]
     },
     "execution_count": 108,
     "metadata": {},
     "output_type": "execute_result"
    }
   ],
   "source": [
    "idade >= 18"
   ]
  },
  {
   "cell_type": "code",
   "execution_count": 109,
   "id": "3eb060e7",
   "metadata": {},
   "outputs": [
    {
     "data": {
      "text/plain": [
       "True"
      ]
     },
     "execution_count": 109,
     "metadata": {},
     "output_type": "execute_result"
    }
   ],
   "source": [
    "'bb' > 'ba'"
   ]
  },
  {
   "cell_type": "code",
   "execution_count": 110,
   "id": "5e76a89b",
   "metadata": {},
   "outputs": [
    {
     "data": {
      "text/plain": [
       "False"
      ]
     },
     "execution_count": 110,
     "metadata": {},
     "output_type": "execute_result"
    }
   ],
   "source": [
    "'a' > 'b'"
   ]
  },
  {
   "cell_type": "code",
   "execution_count": 111,
   "id": "eb51f838",
   "metadata": {},
   "outputs": [
    {
     "data": {
      "text/plain": [
       "True"
      ]
     },
     "execution_count": 111,
     "metadata": {},
     "output_type": "execute_result"
    }
   ],
   "source": [
    "'c' > 'b'"
   ]
  },
  {
   "cell_type": "code",
   "execution_count": 113,
   "id": "395d8970",
   "metadata": {},
   "outputs": [
    {
     "data": {
      "text/plain": [
       "50"
      ]
     },
     "execution_count": 113,
     "metadata": {},
     "output_type": "execute_result"
    }
   ],
   "source": [
    "10 + 20 * 2"
   ]
  },
  {
   "cell_type": "code",
   "execution_count": 114,
   "id": "01c4b373",
   "metadata": {},
   "outputs": [
    {
     "data": {
      "text/plain": [
       "60"
      ]
     },
     "execution_count": 114,
     "metadata": {},
     "output_type": "execute_result"
    }
   ],
   "source": [
    "(10 + 20) * 2"
   ]
  },
  {
   "cell_type": "code",
   "execution_count": 115,
   "id": "272b2965",
   "metadata": {},
   "outputs": [
    {
     "data": {
      "text/plain": [
       "16"
      ]
     },
     "execution_count": 115,
     "metadata": {},
     "output_type": "execute_result"
    }
   ],
   "source": [
    "4 ** 2"
   ]
  },
  {
   "cell_type": "code",
   "execution_count": 116,
   "id": "a7fbdc03",
   "metadata": {},
   "outputs": [
    {
     "data": {
      "text/plain": [
       "121"
      ]
     },
     "execution_count": 116,
     "metadata": {},
     "output_type": "execute_result"
    }
   ],
   "source": [
    "11 ** 2"
   ]
  },
  {
   "cell_type": "code",
   "execution_count": 118,
   "id": "7255dfc8",
   "metadata": {},
   "outputs": [
    {
     "data": {
      "text/plain": [
       "2.0"
      ]
     },
     "execution_count": 118,
     "metadata": {},
     "output_type": "execute_result"
    }
   ],
   "source": [
    "4 ** 2 / 8"
   ]
  },
  {
   "cell_type": "code",
   "execution_count": 119,
   "id": "cd33f5b3",
   "metadata": {},
   "outputs": [
    {
     "data": {
      "text/plain": [
       "2"
      ]
     },
     "execution_count": 119,
     "metadata": {},
     "output_type": "execute_result"
    }
   ],
   "source": [
    "4 ** 2 // 8"
   ]
  },
  {
   "cell_type": "code",
   "execution_count": 120,
   "id": "1aae039e",
   "metadata": {},
   "outputs": [
    {
     "data": {
      "text/plain": [
       "2"
      ]
     },
     "execution_count": 120,
     "metadata": {},
     "output_type": "execute_result"
    }
   ],
   "source": [
    "10 % 4"
   ]
  },
  {
   "cell_type": "code",
   "execution_count": 121,
   "id": "d906ba38",
   "metadata": {},
   "outputs": [],
   "source": [
    "numero_float = 10.58"
   ]
  },
  {
   "cell_type": "code",
   "execution_count": 122,
   "id": "d41aafb6",
   "metadata": {},
   "outputs": [
    {
     "data": {
      "text/plain": [
       "11"
      ]
     },
     "execution_count": 122,
     "metadata": {},
     "output_type": "execute_result"
    }
   ],
   "source": [
    "round(numero_float)"
   ]
  },
  {
   "cell_type": "code",
   "execution_count": 123,
   "id": "997a3f01",
   "metadata": {},
   "outputs": [
    {
     "data": {
      "text/plain": [
       "6"
      ]
     },
     "execution_count": 123,
     "metadata": {},
     "output_type": "execute_result"
    }
   ],
   "source": [
    "letra = 'abraço'\n",
    "len(letra)"
   ]
  },
  {
   "cell_type": "code",
   "execution_count": null,
   "id": "d2fc55b5",
   "metadata": {},
   "outputs": [],
   "source": []
  }
 ],
 "metadata": {
  "kernelspec": {
   "display_name": "Python 3 (ipykernel)",
   "language": "python",
   "name": "python3"
  },
  "language_info": {
   "codemirror_mode": {
    "name": "ipython",
    "version": 3
   },
   "file_extension": ".py",
   "mimetype": "text/x-python",
   "name": "python",
   "nbconvert_exporter": "python",
   "pygments_lexer": "ipython3",
   "version": "3.11.4"
  }
 },
 "nbformat": 4,
 "nbformat_minor": 5
}
